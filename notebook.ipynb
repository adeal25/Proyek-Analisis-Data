{
  "cells": [
    {
      "cell_type": "markdown",
      "metadata": {
        "id": "H9wADwK78DCz"
      },
      "source": [
        "# Proyek Analisis Data: Bike Sharing Dataset\n",
        "- **Nama:** Ade Alvi\n",
        "- **Email:** adealvi672@gmail.com\n",
        "- **ID Dicoding:** ade_alvii"
      ]
    },
    {
      "cell_type": "markdown",
      "metadata": {
        "id": "eE0raob58DC0"
      },
      "source": [
        "## Menentukan Pertanyaan Bisnis"
      ]
    },
    {
      "cell_type": "markdown",
      "metadata": {
        "id": "GmQeQ5YF8DC0"
      },
      "source": [
<<<<<<< HEAD
        "1. Bagaimana cuaca dan suhu memengaruhi permintaan jumlah sewa sepeda?\n",
        "2. Bagaimana preferensi pola penyewaan sepeda berdasarkan variasi hari?"
=======
        "1. Bagaimana cuaca dan suhu memengaruhi permintaan jumlah sewa sepeda?\n"
        "2. Bagaimana preferensi pola penyewaan sepeda berdasarkan variasi hari?\n"
>>>>>>> ca57674550411664e0999b88b10d1d040a834e98
      ]
    },
    {
      "cell_type": "markdown",
      "metadata": {
        "id": "H-z4QGlO8DC1"
      },
      "source": [
        "## Import Semua Packages/Library yang Digunakan"
      ]
    },
    {
      "cell_type": "code",
      "execution_count": 33,
      "metadata": {
        "id": "FVYwaObI8DC1"
      },
      "outputs": [],
      "source": [
        "import pandas as pd\n",
        "import seaborn as sns \n",
        "import matplotlib.pyplot as plt\n",
        "import numpy as np "
      ]
    },
    {
      "cell_type": "markdown",
      "metadata": {
        "id": "h_Sh51Xy8DC1"
      },
      "source": [
        "## Data Wrangling"
      ]
    },
    {
      "cell_type": "markdown",
      "metadata": {
        "id": "sXU2GBYu8DC1"
      },
      "source": [
        "### Gathering Data"
      ]
    },
    {
      "cell_type": "markdown",
      "metadata": {},
      "source": [
        "Pada tahap ini kita mengumpulkan data yang diperlukan. Dalam hal ini adalah day.csv\n"
      ]
    },
    {
      "cell_type": "code",
      "execution_count": 34,
      "metadata": {
        "id": "zjCBk1BI8DC1"
      },
      "outputs": [
        {
          "data": {
            "text/html": [
              "<div>\n",
              "<style scoped>\n",
              "    .dataframe tbody tr th:only-of-type {\n",
              "        vertical-align: middle;\n",
              "    }\n",
              "\n",
              "    .dataframe tbody tr th {\n",
              "        vertical-align: top;\n",
              "    }\n",
              "\n",
              "    .dataframe thead th {\n",
              "        text-align: right;\n",
              "    }\n",
              "</style>\n",
              "<table border=\"1\" class=\"dataframe\">\n",
              "  <thead>\n",
              "    <tr style=\"text-align: right;\">\n",
              "      <th></th>\n",
              "      <th>instant</th>\n",
              "      <th>dteday</th>\n",
              "      <th>season</th>\n",
              "      <th>yr</th>\n",
              "      <th>mnth</th>\n",
              "      <th>holiday</th>\n",
              "      <th>weekday</th>\n",
              "      <th>workingday</th>\n",
              "      <th>weathersit</th>\n",
              "      <th>temp</th>\n",
              "      <th>atemp</th>\n",
              "      <th>hum</th>\n",
              "      <th>windspeed</th>\n",
              "      <th>casual</th>\n",
              "      <th>registered</th>\n",
              "      <th>cnt</th>\n",
              "    </tr>\n",
              "  </thead>\n",
              "  <tbody>\n",
              "    <tr>\n",
              "      <th>0</th>\n",
              "      <td>1</td>\n",
              "      <td>2011-01-01</td>\n",
              "      <td>1</td>\n",
              "      <td>0</td>\n",
              "      <td>1</td>\n",
              "      <td>0</td>\n",
              "      <td>6</td>\n",
              "      <td>0</td>\n",
              "      <td>2</td>\n",
              "      <td>0.344167</td>\n",
              "      <td>0.363625</td>\n",
              "      <td>0.805833</td>\n",
              "      <td>0.160446</td>\n",
              "      <td>331</td>\n",
              "      <td>654</td>\n",
              "      <td>985</td>\n",
              "    </tr>\n",
              "    <tr>\n",
              "      <th>1</th>\n",
              "      <td>2</td>\n",
              "      <td>2011-01-02</td>\n",
              "      <td>1</td>\n",
              "      <td>0</td>\n",
              "      <td>1</td>\n",
              "      <td>0</td>\n",
              "      <td>0</td>\n",
              "      <td>0</td>\n",
              "      <td>2</td>\n",
              "      <td>0.363478</td>\n",
              "      <td>0.353739</td>\n",
              "      <td>0.696087</td>\n",
              "      <td>0.248539</td>\n",
              "      <td>131</td>\n",
              "      <td>670</td>\n",
              "      <td>801</td>\n",
              "    </tr>\n",
              "    <tr>\n",
              "      <th>2</th>\n",
              "      <td>3</td>\n",
              "      <td>2011-01-03</td>\n",
              "      <td>1</td>\n",
              "      <td>0</td>\n",
              "      <td>1</td>\n",
              "      <td>0</td>\n",
              "      <td>1</td>\n",
              "      <td>1</td>\n",
              "      <td>1</td>\n",
              "      <td>0.196364</td>\n",
              "      <td>0.189405</td>\n",
              "      <td>0.437273</td>\n",
              "      <td>0.248309</td>\n",
              "      <td>120</td>\n",
              "      <td>1229</td>\n",
              "      <td>1349</td>\n",
              "    </tr>\n",
              "    <tr>\n",
              "      <th>3</th>\n",
              "      <td>4</td>\n",
              "      <td>2011-01-04</td>\n",
              "      <td>1</td>\n",
              "      <td>0</td>\n",
              "      <td>1</td>\n",
              "      <td>0</td>\n",
              "      <td>2</td>\n",
              "      <td>1</td>\n",
              "      <td>1</td>\n",
              "      <td>0.200000</td>\n",
              "      <td>0.212122</td>\n",
              "      <td>0.590435</td>\n",
              "      <td>0.160296</td>\n",
              "      <td>108</td>\n",
              "      <td>1454</td>\n",
              "      <td>1562</td>\n",
              "    </tr>\n",
              "    <tr>\n",
              "      <th>4</th>\n",
              "      <td>5</td>\n",
              "      <td>2011-01-05</td>\n",
              "      <td>1</td>\n",
              "      <td>0</td>\n",
              "      <td>1</td>\n",
              "      <td>0</td>\n",
              "      <td>3</td>\n",
              "      <td>1</td>\n",
              "      <td>1</td>\n",
              "      <td>0.226957</td>\n",
              "      <td>0.229270</td>\n",
              "      <td>0.436957</td>\n",
              "      <td>0.186900</td>\n",
              "      <td>82</td>\n",
              "      <td>1518</td>\n",
              "      <td>1600</td>\n",
              "    </tr>\n",
              "  </tbody>\n",
              "</table>\n",
              "</div>"
            ],
            "text/plain": [
              "   instant      dteday  season  yr  mnth  holiday  weekday  workingday  \\\n",
              "0        1  2011-01-01       1   0     1        0        6           0   \n",
              "1        2  2011-01-02       1   0     1        0        0           0   \n",
              "2        3  2011-01-03       1   0     1        0        1           1   \n",
              "3        4  2011-01-04       1   0     1        0        2           1   \n",
              "4        5  2011-01-05       1   0     1        0        3           1   \n",
              "\n",
              "   weathersit      temp     atemp       hum  windspeed  casual  registered  \\\n",
              "0           2  0.344167  0.363625  0.805833   0.160446     331         654   \n",
              "1           2  0.363478  0.353739  0.696087   0.248539     131         670   \n",
              "2           1  0.196364  0.189405  0.437273   0.248309     120        1229   \n",
              "3           1  0.200000  0.212122  0.590435   0.160296     108        1454   \n",
              "4           1  0.226957  0.229270  0.436957   0.186900      82        1518   \n",
              "\n",
              "    cnt  \n",
              "0   985  \n",
              "1   801  \n",
              "2  1349  \n",
              "3  1562  \n",
              "4  1600  "
            ]
          },
          "execution_count": 34,
          "metadata": {},
          "output_type": "execute_result"
        }
      ],
      "source": [
        "bikeshare_df = pd.read_csv('https://raw.githubusercontent.com/adeal25/Proyek-Analisis-Data/main/data/day.csv')\n",
        "bikeshare_df.head()"
      ]
    },
    {
      "cell_type": "markdown",
      "metadata": {
        "id": "FHSiqaZp8DC1"
      },
      "source": [
        "### Assessing Data"
      ]
    },
    {
      "cell_type": "markdown",
      "metadata": {},
      "source": []
    },
    {
      "cell_type": "code",
      "execution_count": 35,
      "metadata": {
        "id": "ax-3tEjc9Cj1"
      },
      "outputs": [
        {
          "name": "stdout",
          "output_type": "stream",
          "text": [
            "<class 'pandas.core.frame.DataFrame'>\n",
            "RangeIndex: 731 entries, 0 to 730\n",
            "Data columns (total 16 columns):\n",
            " #   Column      Non-Null Count  Dtype  \n",
            "---  ------      --------------  -----  \n",
            " 0   instant     731 non-null    int64  \n",
            " 1   dteday      731 non-null    object \n",
            " 2   season      731 non-null    int64  \n",
            " 3   yr          731 non-null    int64  \n",
            " 4   mnth        731 non-null    int64  \n",
            " 5   holiday     731 non-null    int64  \n",
            " 6   weekday     731 non-null    int64  \n",
            " 7   workingday  731 non-null    int64  \n",
            " 8   weathersit  731 non-null    int64  \n",
            " 9   temp        731 non-null    float64\n",
            " 10  atemp       731 non-null    float64\n",
            " 11  hum         731 non-null    float64\n",
            " 12  windspeed   731 non-null    float64\n",
            " 13  casual      731 non-null    int64  \n",
            " 14  registered  731 non-null    int64  \n",
            " 15  cnt         731 non-null    int64  \n",
            "dtypes: float64(4), int64(11), object(1)\n",
            "memory usage: 91.5+ KB\n"
          ]
        }
      ],
      "source": [
        "bikeshare_df.info()"
      ]
    },
    {
      "cell_type": "markdown",
      "metadata": {},
      "source": [
        "terdapat ketidaksesuaian tipe data pada kolom dteday"
      ]
    },
    {
      "cell_type": "code",
      "execution_count": 36,
      "metadata": {},
      "outputs": [
        {
          "name": "stdout",
          "output_type": "stream",
          "text": [
            "Cek duplikat data:  0\n"
          ]
        }
      ],
      "source": [
        "print(\"Cek duplikat data: \", bikeshare_df.duplicated().sum())"
      ]
    },
    {
      "cell_type": "markdown",
      "metadata": {},
      "source": [
        "data tidak terdapat duplikasi "
      ]
    },
    {
      "cell_type": "code",
      "execution_count": 37,
      "metadata": {},
      "outputs": [
        {
          "data": {
            "text/html": [
              "<div>\n",
              "<style scoped>\n",
              "    .dataframe tbody tr th:only-of-type {\n",
              "        vertical-align: middle;\n",
              "    }\n",
              "\n",
              "    .dataframe tbody tr th {\n",
              "        vertical-align: top;\n",
              "    }\n",
              "\n",
              "    .dataframe thead th {\n",
              "        text-align: right;\n",
              "    }\n",
              "</style>\n",
              "<table border=\"1\" class=\"dataframe\">\n",
              "  <thead>\n",
              "    <tr style=\"text-align: right;\">\n",
              "      <th></th>\n",
              "      <th>instant</th>\n",
              "      <th>season</th>\n",
              "      <th>yr</th>\n",
              "      <th>mnth</th>\n",
              "      <th>holiday</th>\n",
              "      <th>weekday</th>\n",
              "      <th>workingday</th>\n",
              "      <th>weathersit</th>\n",
              "      <th>temp</th>\n",
              "      <th>atemp</th>\n",
              "      <th>hum</th>\n",
              "      <th>windspeed</th>\n",
              "      <th>casual</th>\n",
              "      <th>registered</th>\n",
              "      <th>cnt</th>\n",
              "    </tr>\n",
              "  </thead>\n",
              "  <tbody>\n",
              "    <tr>\n",
              "      <th>count</th>\n",
              "      <td>731.000000</td>\n",
              "      <td>731.000000</td>\n",
              "      <td>731.000000</td>\n",
              "      <td>731.000000</td>\n",
              "      <td>731.000000</td>\n",
              "      <td>731.000000</td>\n",
              "      <td>731.000000</td>\n",
              "      <td>731.000000</td>\n",
              "      <td>731.000000</td>\n",
              "      <td>731.000000</td>\n",
              "      <td>731.000000</td>\n",
              "      <td>731.000000</td>\n",
              "      <td>731.000000</td>\n",
              "      <td>731.000000</td>\n",
              "      <td>731.000000</td>\n",
              "    </tr>\n",
              "    <tr>\n",
              "      <th>mean</th>\n",
              "      <td>366.000000</td>\n",
              "      <td>2.496580</td>\n",
              "      <td>0.500684</td>\n",
              "      <td>6.519836</td>\n",
              "      <td>0.028728</td>\n",
              "      <td>2.997264</td>\n",
              "      <td>0.683995</td>\n",
              "      <td>1.395349</td>\n",
              "      <td>0.495385</td>\n",
              "      <td>0.474354</td>\n",
              "      <td>0.627894</td>\n",
              "      <td>0.190486</td>\n",
              "      <td>848.176471</td>\n",
              "      <td>3656.172367</td>\n",
              "      <td>4504.348837</td>\n",
              "    </tr>\n",
              "    <tr>\n",
              "      <th>std</th>\n",
              "      <td>211.165812</td>\n",
              "      <td>1.110807</td>\n",
              "      <td>0.500342</td>\n",
              "      <td>3.451913</td>\n",
              "      <td>0.167155</td>\n",
              "      <td>2.004787</td>\n",
              "      <td>0.465233</td>\n",
              "      <td>0.544894</td>\n",
              "      <td>0.183051</td>\n",
              "      <td>0.162961</td>\n",
              "      <td>0.142429</td>\n",
              "      <td>0.077498</td>\n",
              "      <td>686.622488</td>\n",
              "      <td>1560.256377</td>\n",
              "      <td>1937.211452</td>\n",
              "    </tr>\n",
              "    <tr>\n",
              "      <th>min</th>\n",
              "      <td>1.000000</td>\n",
              "      <td>1.000000</td>\n",
              "      <td>0.000000</td>\n",
              "      <td>1.000000</td>\n",
              "      <td>0.000000</td>\n",
              "      <td>0.000000</td>\n",
              "      <td>0.000000</td>\n",
              "      <td>1.000000</td>\n",
              "      <td>0.059130</td>\n",
              "      <td>0.079070</td>\n",
              "      <td>0.000000</td>\n",
              "      <td>0.022392</td>\n",
              "      <td>2.000000</td>\n",
              "      <td>20.000000</td>\n",
              "      <td>22.000000</td>\n",
              "    </tr>\n",
              "    <tr>\n",
              "      <th>25%</th>\n",
              "      <td>183.500000</td>\n",
              "      <td>2.000000</td>\n",
              "      <td>0.000000</td>\n",
              "      <td>4.000000</td>\n",
              "      <td>0.000000</td>\n",
              "      <td>1.000000</td>\n",
              "      <td>0.000000</td>\n",
              "      <td>1.000000</td>\n",
              "      <td>0.337083</td>\n",
              "      <td>0.337842</td>\n",
              "      <td>0.520000</td>\n",
              "      <td>0.134950</td>\n",
              "      <td>315.500000</td>\n",
              "      <td>2497.000000</td>\n",
              "      <td>3152.000000</td>\n",
              "    </tr>\n",
              "    <tr>\n",
              "      <th>50%</th>\n",
              "      <td>366.000000</td>\n",
              "      <td>3.000000</td>\n",
              "      <td>1.000000</td>\n",
              "      <td>7.000000</td>\n",
              "      <td>0.000000</td>\n",
              "      <td>3.000000</td>\n",
              "      <td>1.000000</td>\n",
              "      <td>1.000000</td>\n",
              "      <td>0.498333</td>\n",
              "      <td>0.486733</td>\n",
              "      <td>0.626667</td>\n",
              "      <td>0.180975</td>\n",
              "      <td>713.000000</td>\n",
              "      <td>3662.000000</td>\n",
              "      <td>4548.000000</td>\n",
              "    </tr>\n",
              "    <tr>\n",
              "      <th>75%</th>\n",
              "      <td>548.500000</td>\n",
              "      <td>3.000000</td>\n",
              "      <td>1.000000</td>\n",
              "      <td>10.000000</td>\n",
              "      <td>0.000000</td>\n",
              "      <td>5.000000</td>\n",
              "      <td>1.000000</td>\n",
              "      <td>2.000000</td>\n",
              "      <td>0.655417</td>\n",
              "      <td>0.608602</td>\n",
              "      <td>0.730209</td>\n",
              "      <td>0.233214</td>\n",
              "      <td>1096.000000</td>\n",
              "      <td>4776.500000</td>\n",
              "      <td>5956.000000</td>\n",
              "    </tr>\n",
              "    <tr>\n",
              "      <th>max</th>\n",
              "      <td>731.000000</td>\n",
              "      <td>4.000000</td>\n",
              "      <td>1.000000</td>\n",
              "      <td>12.000000</td>\n",
              "      <td>1.000000</td>\n",
              "      <td>6.000000</td>\n",
              "      <td>1.000000</td>\n",
              "      <td>3.000000</td>\n",
              "      <td>0.861667</td>\n",
              "      <td>0.840896</td>\n",
              "      <td>0.972500</td>\n",
              "      <td>0.507463</td>\n",
              "      <td>3410.000000</td>\n",
              "      <td>6946.000000</td>\n",
              "      <td>8714.000000</td>\n",
              "    </tr>\n",
              "  </tbody>\n",
              "</table>\n",
              "</div>"
            ],
            "text/plain": [
              "          instant      season          yr        mnth     holiday     weekday  \\\n",
              "count  731.000000  731.000000  731.000000  731.000000  731.000000  731.000000   \n",
              "mean   366.000000    2.496580    0.500684    6.519836    0.028728    2.997264   \n",
              "std    211.165812    1.110807    0.500342    3.451913    0.167155    2.004787   \n",
              "min      1.000000    1.000000    0.000000    1.000000    0.000000    0.000000   \n",
              "25%    183.500000    2.000000    0.000000    4.000000    0.000000    1.000000   \n",
              "50%    366.000000    3.000000    1.000000    7.000000    0.000000    3.000000   \n",
              "75%    548.500000    3.000000    1.000000   10.000000    0.000000    5.000000   \n",
              "max    731.000000    4.000000    1.000000   12.000000    1.000000    6.000000   \n",
              "\n",
              "       workingday  weathersit        temp       atemp         hum   windspeed  \\\n",
              "count  731.000000  731.000000  731.000000  731.000000  731.000000  731.000000   \n",
              "mean     0.683995    1.395349    0.495385    0.474354    0.627894    0.190486   \n",
              "std      0.465233    0.544894    0.183051    0.162961    0.142429    0.077498   \n",
              "min      0.000000    1.000000    0.059130    0.079070    0.000000    0.022392   \n",
              "25%      0.000000    1.000000    0.337083    0.337842    0.520000    0.134950   \n",
              "50%      1.000000    1.000000    0.498333    0.486733    0.626667    0.180975   \n",
              "75%      1.000000    2.000000    0.655417    0.608602    0.730209    0.233214   \n",
              "max      1.000000    3.000000    0.861667    0.840896    0.972500    0.507463   \n",
              "\n",
              "            casual   registered          cnt  \n",
              "count   731.000000   731.000000   731.000000  \n",
              "mean    848.176471  3656.172367  4504.348837  \n",
              "std     686.622488  1560.256377  1937.211452  \n",
              "min       2.000000    20.000000    22.000000  \n",
              "25%     315.500000  2497.000000  3152.000000  \n",
              "50%     713.000000  3662.000000  4548.000000  \n",
              "75%    1096.000000  4776.500000  5956.000000  \n",
              "max    3410.000000  6946.000000  8714.000000  "
            ]
          },
          "execution_count": 37,
          "metadata": {},
          "output_type": "execute_result"
        }
      ],
      "source": [
        "bikeshare_df.describe()"
      ]
    },
    {
      "cell_type": "markdown",
      "metadata": {
        "id": "EhN5R4hr8DC1"
      },
      "source": [
        "### Cleaning Data"
      ]
    },
    {
      "cell_type": "code",
      "execution_count": 38,
      "metadata": {},
      "outputs": [
        {
          "name": "stdout",
          "output_type": "stream",
          "text": [
            "<class 'pandas.core.frame.DataFrame'>\n",
            "RangeIndex: 731 entries, 0 to 730\n",
            "Data columns (total 16 columns):\n",
            " #   Column      Non-Null Count  Dtype         \n",
            "---  ------      --------------  -----         \n",
            " 0   instant     731 non-null    int64         \n",
            " 1   dteday      731 non-null    datetime64[ns]\n",
            " 2   season      731 non-null    int64         \n",
            " 3   yr          731 non-null    int64         \n",
            " 4   mnth        731 non-null    int64         \n",
            " 5   holiday     731 non-null    int64         \n",
            " 6   weekday     731 non-null    int64         \n",
            " 7   workingday  731 non-null    int64         \n",
            " 8   weathersit  731 non-null    int64         \n",
            " 9   temp        731 non-null    float64       \n",
            " 10  atemp       731 non-null    float64       \n",
            " 11  hum         731 non-null    float64       \n",
            " 12  windspeed   731 non-null    float64       \n",
            " 13  casual      731 non-null    int64         \n",
            " 14  registered  731 non-null    int64         \n",
            " 15  cnt         731 non-null    int64         \n",
            "dtypes: datetime64[ns](1), float64(4), int64(11)\n",
            "memory usage: 91.5 KB\n"
          ]
        }
      ],
      "source": [
        "bikeshare_df['dteday'] = pd.to_datetime(bikeshare_df['dteday'])\n",
        "bikeshare_df.info()\n"
      ]
    },
    {
      "cell_type": "markdown",
      "metadata": {},
      "source": [
        "Menghapus kolom yang tidak akan dibutuhkan pada proses analisis data"
      ]
    },
    {
      "cell_type": "code",
      "execution_count": 39,
      "metadata": {},
      "outputs": [],
      "source": [
        "bikeshare_df.drop(['instant'], axis=1, inplace=True)"
      ]
    },
    {
      "cell_type": "code",
      "execution_count": 40,
      "metadata": {
        "id": "jVnYpprE9Evz"
      },
      "outputs": [
        {
          "data": {
            "text/plain": [
              "Index(['dteday', 'season', 'yr', 'mnth', 'holiday', 'weekday', 'workingday',\n",
              "       'weathersit', 'temp', 'atemp', 'hum', 'windspeed', 'casual',\n",
              "       'registered', 'cnt'],\n",
              "      dtype='object')"
            ]
          },
          "execution_count": 40,
          "metadata": {},
          "output_type": "execute_result"
        }
      ],
      "source": [
        "bikeshare_df.columns"
      ]
    },
    {
      "cell_type": "markdown",
      "metadata": {},
      "source": [
        "Untuk memudahkan pemahaman terhadap data dilakukan renaming columns"
      ]
    },
    {
      "cell_type": "code",
      "execution_count": 41,
      "metadata": {},
      "outputs": [],
      "source": [
        "bikeshare_df.rename(columns={\n",
        "    'dteday': 'date',\n",
        "    'yr': 'year',\n",
        "    'mnth': 'month',\n",
        "    'weekday': 'week_day',\n",
        "    'workingday': 'work_day',\n",
        "    'weathersit': 'weather_situation',\n",
        "    'atemp': 'temp_feel',\n",
        "    'hum': 'humidity',\n",
        "    'cnt': 'count'\n",
        "    \n",
        "}, inplace=True)"
      ]
    },
    {
      "cell_type": "code",
      "execution_count": 42,
      "metadata": {},
      "outputs": [
        {
          "data": {
            "text/html": [
              "<div>\n",
              "<style scoped>\n",
              "    .dataframe tbody tr th:only-of-type {\n",
              "        vertical-align: middle;\n",
              "    }\n",
              "\n",
              "    .dataframe tbody tr th {\n",
              "        vertical-align: top;\n",
              "    }\n",
              "\n",
              "    .dataframe thead th {\n",
              "        text-align: right;\n",
              "    }\n",
              "</style>\n",
              "<table border=\"1\" class=\"dataframe\">\n",
              "  <thead>\n",
              "    <tr style=\"text-align: right;\">\n",
              "      <th></th>\n",
              "      <th>date</th>\n",
              "      <th>season</th>\n",
              "      <th>year</th>\n",
              "      <th>month</th>\n",
              "      <th>holiday</th>\n",
              "      <th>week_day</th>\n",
              "      <th>work_day</th>\n",
              "      <th>weather_situation</th>\n",
              "      <th>temp</th>\n",
              "      <th>temp_feel</th>\n",
              "      <th>humidity</th>\n",
              "      <th>windspeed</th>\n",
              "      <th>casual</th>\n",
              "      <th>registered</th>\n",
              "      <th>count</th>\n",
              "    </tr>\n",
              "  </thead>\n",
              "  <tbody>\n",
              "    <tr>\n",
              "      <th>0</th>\n",
              "      <td>2011-01-01</td>\n",
              "      <td>1</td>\n",
              "      <td>0</td>\n",
              "      <td>1</td>\n",
              "      <td>0</td>\n",
              "      <td>6</td>\n",
              "      <td>0</td>\n",
              "      <td>2</td>\n",
              "      <td>0.344167</td>\n",
              "      <td>0.363625</td>\n",
              "      <td>0.805833</td>\n",
              "      <td>0.160446</td>\n",
              "      <td>331</td>\n",
              "      <td>654</td>\n",
              "      <td>985</td>\n",
              "    </tr>\n",
              "    <tr>\n",
              "      <th>1</th>\n",
              "      <td>2011-01-02</td>\n",
              "      <td>1</td>\n",
              "      <td>0</td>\n",
              "      <td>1</td>\n",
              "      <td>0</td>\n",
              "      <td>0</td>\n",
              "      <td>0</td>\n",
              "      <td>2</td>\n",
              "      <td>0.363478</td>\n",
              "      <td>0.353739</td>\n",
              "      <td>0.696087</td>\n",
              "      <td>0.248539</td>\n",
              "      <td>131</td>\n",
              "      <td>670</td>\n",
              "      <td>801</td>\n",
              "    </tr>\n",
              "    <tr>\n",
              "      <th>2</th>\n",
              "      <td>2011-01-03</td>\n",
              "      <td>1</td>\n",
              "      <td>0</td>\n",
              "      <td>1</td>\n",
              "      <td>0</td>\n",
              "      <td>1</td>\n",
              "      <td>1</td>\n",
              "      <td>1</td>\n",
              "      <td>0.196364</td>\n",
              "      <td>0.189405</td>\n",
              "      <td>0.437273</td>\n",
              "      <td>0.248309</td>\n",
              "      <td>120</td>\n",
              "      <td>1229</td>\n",
              "      <td>1349</td>\n",
              "    </tr>\n",
              "    <tr>\n",
              "      <th>3</th>\n",
              "      <td>2011-01-04</td>\n",
              "      <td>1</td>\n",
              "      <td>0</td>\n",
              "      <td>1</td>\n",
              "      <td>0</td>\n",
              "      <td>2</td>\n",
              "      <td>1</td>\n",
              "      <td>1</td>\n",
              "      <td>0.200000</td>\n",
              "      <td>0.212122</td>\n",
              "      <td>0.590435</td>\n",
              "      <td>0.160296</td>\n",
              "      <td>108</td>\n",
              "      <td>1454</td>\n",
              "      <td>1562</td>\n",
              "    </tr>\n",
              "    <tr>\n",
              "      <th>4</th>\n",
              "      <td>2011-01-05</td>\n",
              "      <td>1</td>\n",
              "      <td>0</td>\n",
              "      <td>1</td>\n",
              "      <td>0</td>\n",
              "      <td>3</td>\n",
              "      <td>1</td>\n",
              "      <td>1</td>\n",
              "      <td>0.226957</td>\n",
              "      <td>0.229270</td>\n",
              "      <td>0.436957</td>\n",
              "      <td>0.186900</td>\n",
              "      <td>82</td>\n",
              "      <td>1518</td>\n",
              "      <td>1600</td>\n",
              "    </tr>\n",
              "  </tbody>\n",
              "</table>\n",
              "</div>"
            ],
            "text/plain": [
              "        date  season  year  month  holiday  week_day  work_day  \\\n",
              "0 2011-01-01       1     0      1        0         6         0   \n",
              "1 2011-01-02       1     0      1        0         0         0   \n",
              "2 2011-01-03       1     0      1        0         1         1   \n",
              "3 2011-01-04       1     0      1        0         2         1   \n",
              "4 2011-01-05       1     0      1        0         3         1   \n",
              "\n",
              "   weather_situation      temp  temp_feel  humidity  windspeed  casual  \\\n",
              "0                  2  0.344167   0.363625  0.805833   0.160446     331   \n",
              "1                  2  0.363478   0.353739  0.696087   0.248539     131   \n",
              "2                  1  0.196364   0.189405  0.437273   0.248309     120   \n",
              "3                  1  0.200000   0.212122  0.590435   0.160296     108   \n",
              "4                  1  0.226957   0.229270  0.436957   0.186900      82   \n",
              "\n",
              "   registered  count  \n",
              "0         654    985  \n",
              "1         670    801  \n",
              "2        1229   1349  \n",
              "3        1454   1562  \n",
              "4        1518   1600  "
            ]
          },
          "execution_count": 42,
          "metadata": {},
          "output_type": "execute_result"
        }
      ],
      "source": [
        "bikeshare_df.head()"
      ]
    },
    {
      "cell_type": "code",
      "execution_count": 43,
      "metadata": {},
      "outputs": [
        {
          "data": {
            "text/plain": [
              "date                 0\n",
              "season               0\n",
              "year                 0\n",
              "month                0\n",
              "holiday              0\n",
              "week_day             0\n",
              "work_day             0\n",
              "weather_situation    0\n",
              "temp                 0\n",
              "temp_feel            0\n",
              "humidity             0\n",
              "windspeed            0\n",
              "casual               0\n",
              "registered           0\n",
              "count                0\n",
              "dtype: int64"
            ]
          },
          "execution_count": 43,
          "metadata": {},
          "output_type": "execute_result"
        }
      ],
      "source": [
        "bikeshare_df.isna().sum()"
      ]
    },
    {
      "cell_type": "markdown",
      "metadata": {},
      "source": [
        "data sudah dipastikan aman. Tidak terdapat duplikasi, tipe data sesuai, tidak terdapat mising value"
      ]
    },
    {
      "cell_type": "markdown",
      "metadata": {
        "id": "gp-Y6wU38DC1"
      },
      "source": [
        "## Exploratory Data Analysis (EDA)"
      ]
    },
    {
      "cell_type": "markdown",
      "metadata": {
        "id": "MW7WF2kr8DC1"
      },
      "source": [
        "### Explore Data bikeshare_df"
      ]
    },
    {
      "cell_type": "markdown",
      "metadata": {},
      "source": [
        "Dataset ini memuat berbagai informasi terkait penyewaan sepeda berdasarkan hari, diantaranya: \n",
        "date, season, year, month, holiday, week_day, work_day,weather_situation, temp, temp_feel, humidity, windspeed, casual, registered, count"
      ]
    },
    {
      "cell_type": "markdown",
      "metadata": {},
      "source": [
        "*Melihat parameter statistik dari bikeshare_df*"
      ]
    },
    {
      "cell_type": "code",
      "execution_count": 44,
      "metadata": {
        "id": "e9CQCZjk8DC2"
      },
      "outputs": [
        {
          "data": {
            "text/html": [
              "<div>\n",
              "<style scoped>\n",
              "    .dataframe tbody tr th:only-of-type {\n",
              "        vertical-align: middle;\n",
              "    }\n",
              "\n",
              "    .dataframe tbody tr th {\n",
              "        vertical-align: top;\n",
              "    }\n",
              "\n",
              "    .dataframe thead th {\n",
              "        text-align: right;\n",
              "    }\n",
              "</style>\n",
              "<table border=\"1\" class=\"dataframe\">\n",
              "  <thead>\n",
              "    <tr style=\"text-align: right;\">\n",
              "      <th></th>\n",
              "      <th>date</th>\n",
              "      <th>season</th>\n",
              "      <th>year</th>\n",
              "      <th>month</th>\n",
              "      <th>holiday</th>\n",
              "      <th>week_day</th>\n",
              "      <th>work_day</th>\n",
              "      <th>weather_situation</th>\n",
              "      <th>temp</th>\n",
              "      <th>temp_feel</th>\n",
              "      <th>humidity</th>\n",
              "      <th>windspeed</th>\n",
              "      <th>casual</th>\n",
              "      <th>registered</th>\n",
              "      <th>count</th>\n",
              "    </tr>\n",
              "  </thead>\n",
              "  <tbody>\n",
              "    <tr>\n",
              "      <th>count</th>\n",
              "      <td>731</td>\n",
              "      <td>731.000000</td>\n",
              "      <td>731.000000</td>\n",
              "      <td>731.000000</td>\n",
              "      <td>731.000000</td>\n",
              "      <td>731.000000</td>\n",
              "      <td>731.000000</td>\n",
              "      <td>731.000000</td>\n",
              "      <td>731.000000</td>\n",
              "      <td>731.000000</td>\n",
              "      <td>731.000000</td>\n",
              "      <td>731.000000</td>\n",
              "      <td>731.000000</td>\n",
              "      <td>731.000000</td>\n",
              "      <td>731.000000</td>\n",
              "    </tr>\n",
              "    <tr>\n",
              "      <th>mean</th>\n",
              "      <td>2012-01-01 00:00:00</td>\n",
              "      <td>2.496580</td>\n",
              "      <td>0.500684</td>\n",
              "      <td>6.519836</td>\n",
              "      <td>0.028728</td>\n",
              "      <td>2.997264</td>\n",
              "      <td>0.683995</td>\n",
              "      <td>1.395349</td>\n",
              "      <td>0.495385</td>\n",
              "      <td>0.474354</td>\n",
              "      <td>0.627894</td>\n",
              "      <td>0.190486</td>\n",
              "      <td>848.176471</td>\n",
              "      <td>3656.172367</td>\n",
              "      <td>4504.348837</td>\n",
              "    </tr>\n",
              "    <tr>\n",
              "      <th>min</th>\n",
              "      <td>2011-01-01 00:00:00</td>\n",
              "      <td>1.000000</td>\n",
              "      <td>0.000000</td>\n",
              "      <td>1.000000</td>\n",
              "      <td>0.000000</td>\n",
              "      <td>0.000000</td>\n",
              "      <td>0.000000</td>\n",
              "      <td>1.000000</td>\n",
              "      <td>0.059130</td>\n",
              "      <td>0.079070</td>\n",
              "      <td>0.000000</td>\n",
              "      <td>0.022392</td>\n",
              "      <td>2.000000</td>\n",
              "      <td>20.000000</td>\n",
              "      <td>22.000000</td>\n",
              "    </tr>\n",
              "    <tr>\n",
              "      <th>25%</th>\n",
              "      <td>2011-07-02 12:00:00</td>\n",
              "      <td>2.000000</td>\n",
              "      <td>0.000000</td>\n",
              "      <td>4.000000</td>\n",
              "      <td>0.000000</td>\n",
              "      <td>1.000000</td>\n",
              "      <td>0.000000</td>\n",
              "      <td>1.000000</td>\n",
              "      <td>0.337083</td>\n",
              "      <td>0.337842</td>\n",
              "      <td>0.520000</td>\n",
              "      <td>0.134950</td>\n",
              "      <td>315.500000</td>\n",
              "      <td>2497.000000</td>\n",
              "      <td>3152.000000</td>\n",
              "    </tr>\n",
              "    <tr>\n",
              "      <th>50%</th>\n",
              "      <td>2012-01-01 00:00:00</td>\n",
              "      <td>3.000000</td>\n",
              "      <td>1.000000</td>\n",
              "      <td>7.000000</td>\n",
              "      <td>0.000000</td>\n",
              "      <td>3.000000</td>\n",
              "      <td>1.000000</td>\n",
              "      <td>1.000000</td>\n",
              "      <td>0.498333</td>\n",
              "      <td>0.486733</td>\n",
              "      <td>0.626667</td>\n",
              "      <td>0.180975</td>\n",
              "      <td>713.000000</td>\n",
              "      <td>3662.000000</td>\n",
              "      <td>4548.000000</td>\n",
              "    </tr>\n",
              "    <tr>\n",
              "      <th>75%</th>\n",
              "      <td>2012-07-01 12:00:00</td>\n",
              "      <td>3.000000</td>\n",
              "      <td>1.000000</td>\n",
              "      <td>10.000000</td>\n",
              "      <td>0.000000</td>\n",
              "      <td>5.000000</td>\n",
              "      <td>1.000000</td>\n",
              "      <td>2.000000</td>\n",
              "      <td>0.655417</td>\n",
              "      <td>0.608602</td>\n",
              "      <td>0.730209</td>\n",
              "      <td>0.233214</td>\n",
              "      <td>1096.000000</td>\n",
              "      <td>4776.500000</td>\n",
              "      <td>5956.000000</td>\n",
              "    </tr>\n",
              "    <tr>\n",
              "      <th>max</th>\n",
              "      <td>2012-12-31 00:00:00</td>\n",
              "      <td>4.000000</td>\n",
              "      <td>1.000000</td>\n",
              "      <td>12.000000</td>\n",
              "      <td>1.000000</td>\n",
              "      <td>6.000000</td>\n",
              "      <td>1.000000</td>\n",
              "      <td>3.000000</td>\n",
              "      <td>0.861667</td>\n",
              "      <td>0.840896</td>\n",
              "      <td>0.972500</td>\n",
              "      <td>0.507463</td>\n",
              "      <td>3410.000000</td>\n",
              "      <td>6946.000000</td>\n",
              "      <td>8714.000000</td>\n",
              "    </tr>\n",
              "    <tr>\n",
              "      <th>std</th>\n",
              "      <td>NaN</td>\n",
              "      <td>1.110807</td>\n",
              "      <td>0.500342</td>\n",
              "      <td>3.451913</td>\n",
              "      <td>0.167155</td>\n",
              "      <td>2.004787</td>\n",
              "      <td>0.465233</td>\n",
              "      <td>0.544894</td>\n",
              "      <td>0.183051</td>\n",
              "      <td>0.162961</td>\n",
              "      <td>0.142429</td>\n",
              "      <td>0.077498</td>\n",
              "      <td>686.622488</td>\n",
              "      <td>1560.256377</td>\n",
              "      <td>1937.211452</td>\n",
              "    </tr>\n",
              "  </tbody>\n",
              "</table>\n",
              "</div>"
            ],
            "text/plain": [
              "                      date      season        year       month     holiday  \\\n",
              "count                  731  731.000000  731.000000  731.000000  731.000000   \n",
              "mean   2012-01-01 00:00:00    2.496580    0.500684    6.519836    0.028728   \n",
              "min    2011-01-01 00:00:00    1.000000    0.000000    1.000000    0.000000   \n",
              "25%    2011-07-02 12:00:00    2.000000    0.000000    4.000000    0.000000   \n",
              "50%    2012-01-01 00:00:00    3.000000    1.000000    7.000000    0.000000   \n",
              "75%    2012-07-01 12:00:00    3.000000    1.000000   10.000000    0.000000   \n",
              "max    2012-12-31 00:00:00    4.000000    1.000000   12.000000    1.000000   \n",
              "std                    NaN    1.110807    0.500342    3.451913    0.167155   \n",
              "\n",
              "         week_day    work_day  weather_situation        temp   temp_feel  \\\n",
              "count  731.000000  731.000000         731.000000  731.000000  731.000000   \n",
              "mean     2.997264    0.683995           1.395349    0.495385    0.474354   \n",
              "min      0.000000    0.000000           1.000000    0.059130    0.079070   \n",
              "25%      1.000000    0.000000           1.000000    0.337083    0.337842   \n",
              "50%      3.000000    1.000000           1.000000    0.498333    0.486733   \n",
              "75%      5.000000    1.000000           2.000000    0.655417    0.608602   \n",
              "max      6.000000    1.000000           3.000000    0.861667    0.840896   \n",
              "std      2.004787    0.465233           0.544894    0.183051    0.162961   \n",
              "\n",
              "         humidity   windspeed       casual   registered        count  \n",
              "count  731.000000  731.000000   731.000000   731.000000   731.000000  \n",
              "mean     0.627894    0.190486   848.176471  3656.172367  4504.348837  \n",
              "min      0.000000    0.022392     2.000000    20.000000    22.000000  \n",
              "25%      0.520000    0.134950   315.500000  2497.000000  3152.000000  \n",
              "50%      0.626667    0.180975   713.000000  3662.000000  4548.000000  \n",
              "75%      0.730209    0.233214  1096.000000  4776.500000  5956.000000  \n",
              "max      0.972500    0.507463  3410.000000  6946.000000  8714.000000  \n",
              "std      0.142429    0.077498   686.622488  1560.256377  1937.211452  "
            ]
          },
          "execution_count": 44,
          "metadata": {},
          "output_type": "execute_result"
        }
      ],
      "source": [
        "bikeshare_df.describe(include=\"all\")"
      ]
    },
    {
      "cell_type": "markdown",
      "metadata": {},
      "source": [
        "Berdasarkan informasi diatas kita mendapatkan beberapa informasi untuk dapat kita explore, diantaranya:\n",
        "- Year: kita mempunyai data dari tahun 0 dan 1 artinya dataset ini menghimpun data dari 2 tahun terakhir.\n",
        "- Season: 1-4 yang nantinya akan kita replace supaya lebih readable\n",
        "- Month: Karena masih berupa integer 1-12 kedepannya akan kita ubah juga menjadi nama bulan yang mudah di pahami\n",
        "- Weather: Pada data ini kita akan membagi cuaca menjadi 3 jenis (Sunny, Cloudy, Rainy)\n",
        "- Week_day: Mengubah nama hari\n",
        "- Work_day: karena workday memiliki dua nilai 1 dan 0 kita berasumsi nilai 1 adalah workday dan 0 adalah weekend\n",
        "Berikutnya kita akan melakukan replace beberapa hal untuk dapat kita explore"
      ]
    },
    {
      "cell_type": "code",
      "execution_count": 45,
      "metadata": {},
      "outputs": [],
      "source": [
        "# Mengubah tahun menjadi 2 tahun terakhir, kita anggap 2022 dan 2023\n",
        "code_year = {0: '2022', 1: '2023'}\n",
        "bikeshare_df['year'] = bikeshare_df['year'].map(code_year)"
      ]
    },
    {
      "cell_type": "code",
      "execution_count": 46,
      "metadata": {},
      "outputs": [
        {
          "data": {
            "text/plain": [
              "array(['2022', '2023'], dtype=object)"
            ]
          },
          "execution_count": 46,
          "metadata": {},
          "output_type": "execute_result"
        }
      ],
      "source": [
        "bikeshare_df['year'].unique()"
      ]
    },
    {
      "cell_type": "code",
      "execution_count": 47,
      "metadata": {},
      "outputs": [],
      "source": [
        "# Mengubah nama bulan sehingga lebih mudah untuk kita baca\n",
        "\n",
        "code_month = {1: 'Jan', 2:'Feb', 3:'Mar', 4: 'Apr', 5:'May', 6: 'Jun', 7:'Jul', 8:'Ags', 9:'Sep', 10:'Oct', 11:'Nov', 12: 'Des'}\n",
        "bikeshare_df['month'] = bikeshare_df['month'].map(code_month)"
      ]
    },
    {
      "cell_type": "code",
      "execution_count": 48,
      "metadata": {},
      "outputs": [
        {
          "data": {
            "text/plain": [
              "array(['Jan', 'Feb', 'Mar', 'Apr', 'May', 'Jun', 'Jul', 'Ags', 'Sep',\n",
              "       'Oct', 'Nov', 'Des'], dtype=object)"
            ]
          },
          "execution_count": 48,
          "metadata": {},
          "output_type": "execute_result"
        }
      ],
      "source": [
        "bikeshare_df['month'].unique()"
      ]
    },
    {
      "cell_type": "code",
      "execution_count": 49,
      "metadata": {},
      "outputs": [],
      "source": [
        "# Memberikan penamaan keempat musim\n",
        "code_season = {1: 'Spring', 2: 'Summer', 3: 'Fall', 4: 'Winter'}\n",
        "bikeshare_df['season'] = bikeshare_df['season'].map(code_season)"
      ]
    },
    {
      "cell_type": "code",
      "execution_count": 50,
      "metadata": {},
      "outputs": [
        {
          "data": {
            "text/plain": [
              "array(['Spring', 'Summer', 'Fall', 'Winter'], dtype=object)"
            ]
          },
          "execution_count": 50,
          "metadata": {},
          "output_type": "execute_result"
        }
      ],
      "source": [
        "bikeshare_df['season'].unique()"
      ]
    },
    {
      "cell_type": "code",
      "execution_count": 51,
      "metadata": {},
      "outputs": [],
      "source": [
        "code_week_day = {0:'Mon', 1:'Tue', 3: 'Wed', 4: 'Thu', 5: 'Fri', 6: 'Sat', 7:'Sun'}\n",
        "bikeshare_df['week_day'] = bikeshare_df['week_day'].map(code_week_day)\n"
      ]
    },
    {
      "cell_type": "code",
      "execution_count": 52,
      "metadata": {},
      "outputs": [
        {
          "data": {
            "text/plain": [
              "array(['Sat', 'Mon', 'Tue', nan, 'Wed', 'Thu', 'Fri'], dtype=object)"
            ]
          },
          "execution_count": 52,
          "metadata": {},
          "output_type": "execute_result"
        }
      ],
      "source": [
        "bikeshare_df['week_day'].unique()"
      ]
    },
    {
      "cell_type": "code",
      "execution_count": 53,
      "metadata": {},
      "outputs": [],
      "source": [
        "code_work_day = {0: 'No', 1: 'Yes'}\n",
        "bikeshare_df['work_day'] = bikeshare_df['work_day'].map(code_work_day)\n"
      ]
    },
    {
      "cell_type": "code",
      "execution_count": 54,
      "metadata": {},
      "outputs": [
        {
          "data": {
            "text/plain": [
              "array(['No', 'Yes'], dtype=object)"
            ]
          },
          "execution_count": 54,
          "metadata": {},
          "output_type": "execute_result"
        }
      ],
      "source": [
        "bikeshare_df['work_day'].unique()"
      ]
    },
    {
      "cell_type": "code",
      "execution_count": 55,
      "metadata": {},
      "outputs": [],
      "source": [
        "code_weather = {1: 'Clear', 2:'Mist', 3: 'Light Rain', 4:'Rainy'}\n",
        "bikeshare_df['weather_situation'] = bikeshare_df['weather_situation'].map(code_weather)\n"
      ]
    },
    {
      "cell_type": "code",
      "execution_count": 56,
      "metadata": {},
      "outputs": [
        {
          "data": {
            "text/plain": [
              "array(['Mist', 'Clear', 'Light Rain'], dtype=object)"
            ]
          },
          "execution_count": 56,
          "metadata": {},
          "output_type": "execute_result"
        }
      ],
      "source": [
        "bikeshare_df['weather_situation'].unique()"
      ]
    },
    {
      "cell_type": "code",
      "execution_count": 57,
      "metadata": {},
      "outputs": [
        {
          "data": {
            "text/html": [
              "<div>\n",
              "<style scoped>\n",
              "    .dataframe tbody tr th:only-of-type {\n",
              "        vertical-align: middle;\n",
              "    }\n",
              "\n",
              "    .dataframe tbody tr th {\n",
              "        vertical-align: top;\n",
              "    }\n",
              "\n",
              "    .dataframe thead th {\n",
              "        text-align: right;\n",
              "    }\n",
              "</style>\n",
              "<table border=\"1\" class=\"dataframe\">\n",
              "  <thead>\n",
              "    <tr style=\"text-align: right;\">\n",
              "      <th></th>\n",
              "      <th>date</th>\n",
              "      <th>season</th>\n",
              "      <th>year</th>\n",
              "      <th>month</th>\n",
              "      <th>holiday</th>\n",
              "      <th>week_day</th>\n",
              "      <th>work_day</th>\n",
              "      <th>weather_situation</th>\n",
              "      <th>temp</th>\n",
              "      <th>temp_feel</th>\n",
              "      <th>humidity</th>\n",
              "      <th>windspeed</th>\n",
              "      <th>casual</th>\n",
              "      <th>registered</th>\n",
              "      <th>count</th>\n",
              "    </tr>\n",
              "  </thead>\n",
              "  <tbody>\n",
              "    <tr>\n",
              "      <th>0</th>\n",
              "      <td>2011-01-01</td>\n",
              "      <td>Spring</td>\n",
              "      <td>2022</td>\n",
              "      <td>Jan</td>\n",
              "      <td>0</td>\n",
              "      <td>Sat</td>\n",
              "      <td>No</td>\n",
              "      <td>Mist</td>\n",
              "      <td>0.344167</td>\n",
              "      <td>0.363625</td>\n",
              "      <td>0.805833</td>\n",
              "      <td>0.160446</td>\n",
              "      <td>331</td>\n",
              "      <td>654</td>\n",
              "      <td>985</td>\n",
              "    </tr>\n",
              "    <tr>\n",
              "      <th>1</th>\n",
              "      <td>2011-01-02</td>\n",
              "      <td>Spring</td>\n",
              "      <td>2022</td>\n",
              "      <td>Jan</td>\n",
              "      <td>0</td>\n",
              "      <td>Mon</td>\n",
              "      <td>No</td>\n",
              "      <td>Mist</td>\n",
              "      <td>0.363478</td>\n",
              "      <td>0.353739</td>\n",
              "      <td>0.696087</td>\n",
              "      <td>0.248539</td>\n",
              "      <td>131</td>\n",
              "      <td>670</td>\n",
              "      <td>801</td>\n",
              "    </tr>\n",
              "    <tr>\n",
              "      <th>2</th>\n",
              "      <td>2011-01-03</td>\n",
              "      <td>Spring</td>\n",
              "      <td>2022</td>\n",
              "      <td>Jan</td>\n",
              "      <td>0</td>\n",
              "      <td>Tue</td>\n",
              "      <td>Yes</td>\n",
              "      <td>Clear</td>\n",
              "      <td>0.196364</td>\n",
              "      <td>0.189405</td>\n",
              "      <td>0.437273</td>\n",
              "      <td>0.248309</td>\n",
              "      <td>120</td>\n",
              "      <td>1229</td>\n",
              "      <td>1349</td>\n",
              "    </tr>\n",
              "    <tr>\n",
              "      <th>3</th>\n",
              "      <td>2011-01-04</td>\n",
              "      <td>Spring</td>\n",
              "      <td>2022</td>\n",
              "      <td>Jan</td>\n",
              "      <td>0</td>\n",
              "      <td>NaN</td>\n",
              "      <td>Yes</td>\n",
              "      <td>Clear</td>\n",
              "      <td>0.200000</td>\n",
              "      <td>0.212122</td>\n",
              "      <td>0.590435</td>\n",
              "      <td>0.160296</td>\n",
              "      <td>108</td>\n",
              "      <td>1454</td>\n",
              "      <td>1562</td>\n",
              "    </tr>\n",
              "    <tr>\n",
              "      <th>4</th>\n",
              "      <td>2011-01-05</td>\n",
              "      <td>Spring</td>\n",
              "      <td>2022</td>\n",
              "      <td>Jan</td>\n",
              "      <td>0</td>\n",
              "      <td>Wed</td>\n",
              "      <td>Yes</td>\n",
              "      <td>Clear</td>\n",
              "      <td>0.226957</td>\n",
              "      <td>0.229270</td>\n",
              "      <td>0.436957</td>\n",
              "      <td>0.186900</td>\n",
              "      <td>82</td>\n",
              "      <td>1518</td>\n",
              "      <td>1600</td>\n",
              "    </tr>\n",
              "  </tbody>\n",
              "</table>\n",
              "</div>"
            ],
            "text/plain": [
              "        date  season  year month  holiday week_day work_day weather_situation  \\\n",
              "0 2011-01-01  Spring  2022   Jan        0      Sat       No              Mist   \n",
              "1 2011-01-02  Spring  2022   Jan        0      Mon       No              Mist   \n",
              "2 2011-01-03  Spring  2022   Jan        0      Tue      Yes             Clear   \n",
              "3 2011-01-04  Spring  2022   Jan        0      NaN      Yes             Clear   \n",
              "4 2011-01-05  Spring  2022   Jan        0      Wed      Yes             Clear   \n",
              "\n",
              "       temp  temp_feel  humidity  windspeed  casual  registered  count  \n",
              "0  0.344167   0.363625  0.805833   0.160446     331         654    985  \n",
              "1  0.363478   0.353739  0.696087   0.248539     131         670    801  \n",
              "2  0.196364   0.189405  0.437273   0.248309     120        1229   1349  \n",
              "3  0.200000   0.212122  0.590435   0.160296     108        1454   1562  \n",
              "4  0.226957   0.229270  0.436957   0.186900      82        1518   1600  "
            ]
          },
          "execution_count": 57,
          "metadata": {},
          "output_type": "execute_result"
        }
      ],
      "source": [
        "bikeshare_df.head()"
      ]
    },
    {
      "cell_type": "markdown",
      "metadata": {},
      "source": [
        "Mengubah nilai temperatur menjadi nilai sebelum di normalisasi"
      ]
    },
    {
      "cell_type": "code",
      "execution_count": 58,
      "metadata": {},
      "outputs": [],
      "source": [
        "bikeshare_df['temp'] = bikeshare_df['temp']*41"
      ]
    },
    {
      "cell_type": "code",
      "execution_count": 59,
      "metadata": {},
      "outputs": [
        {
          "data": {
            "text/html": [
              "<div>\n",
              "<style scoped>\n",
              "    .dataframe tbody tr th:only-of-type {\n",
              "        vertical-align: middle;\n",
              "    }\n",
              "\n",
              "    .dataframe tbody tr th {\n",
              "        vertical-align: top;\n",
              "    }\n",
              "\n",
              "    .dataframe thead th {\n",
              "        text-align: right;\n",
              "    }\n",
              "</style>\n",
              "<table border=\"1\" class=\"dataframe\">\n",
              "  <thead>\n",
              "    <tr style=\"text-align: right;\">\n",
              "      <th></th>\n",
              "      <th>date</th>\n",
              "      <th>season</th>\n",
              "      <th>year</th>\n",
              "      <th>month</th>\n",
              "      <th>holiday</th>\n",
              "      <th>week_day</th>\n",
              "      <th>work_day</th>\n",
              "      <th>weather_situation</th>\n",
              "      <th>temp</th>\n",
              "      <th>temp_feel</th>\n",
              "      <th>humidity</th>\n",
              "      <th>windspeed</th>\n",
              "      <th>casual</th>\n",
              "      <th>registered</th>\n",
              "      <th>count</th>\n",
              "    </tr>\n",
              "  </thead>\n",
              "  <tbody>\n",
              "    <tr>\n",
              "      <th>0</th>\n",
              "      <td>2011-01-01</td>\n",
              "      <td>Spring</td>\n",
              "      <td>2022</td>\n",
              "      <td>Jan</td>\n",
              "      <td>0</td>\n",
              "      <td>Sat</td>\n",
              "      <td>No</td>\n",
              "      <td>Mist</td>\n",
              "      <td>14.110847</td>\n",
              "      <td>0.363625</td>\n",
              "      <td>0.805833</td>\n",
              "      <td>0.160446</td>\n",
              "      <td>331</td>\n",
              "      <td>654</td>\n",
              "      <td>985</td>\n",
              "    </tr>\n",
              "    <tr>\n",
              "      <th>1</th>\n",
              "      <td>2011-01-02</td>\n",
              "      <td>Spring</td>\n",
              "      <td>2022</td>\n",
              "      <td>Jan</td>\n",
              "      <td>0</td>\n",
              "      <td>Mon</td>\n",
              "      <td>No</td>\n",
              "      <td>Mist</td>\n",
              "      <td>14.902598</td>\n",
              "      <td>0.353739</td>\n",
              "      <td>0.696087</td>\n",
              "      <td>0.248539</td>\n",
              "      <td>131</td>\n",
              "      <td>670</td>\n",
              "      <td>801</td>\n",
              "    </tr>\n",
              "    <tr>\n",
              "      <th>2</th>\n",
              "      <td>2011-01-03</td>\n",
              "      <td>Spring</td>\n",
              "      <td>2022</td>\n",
              "      <td>Jan</td>\n",
              "      <td>0</td>\n",
              "      <td>Tue</td>\n",
              "      <td>Yes</td>\n",
              "      <td>Clear</td>\n",
              "      <td>8.050924</td>\n",
              "      <td>0.189405</td>\n",
              "      <td>0.437273</td>\n",
              "      <td>0.248309</td>\n",
              "      <td>120</td>\n",
              "      <td>1229</td>\n",
              "      <td>1349</td>\n",
              "    </tr>\n",
              "    <tr>\n",
              "      <th>3</th>\n",
              "      <td>2011-01-04</td>\n",
              "      <td>Spring</td>\n",
              "      <td>2022</td>\n",
              "      <td>Jan</td>\n",
              "      <td>0</td>\n",
              "      <td>NaN</td>\n",
              "      <td>Yes</td>\n",
              "      <td>Clear</td>\n",
              "      <td>8.200000</td>\n",
              "      <td>0.212122</td>\n",
              "      <td>0.590435</td>\n",
              "      <td>0.160296</td>\n",
              "      <td>108</td>\n",
              "      <td>1454</td>\n",
              "      <td>1562</td>\n",
              "    </tr>\n",
              "    <tr>\n",
              "      <th>4</th>\n",
              "      <td>2011-01-05</td>\n",
              "      <td>Spring</td>\n",
              "      <td>2022</td>\n",
              "      <td>Jan</td>\n",
              "      <td>0</td>\n",
              "      <td>Wed</td>\n",
              "      <td>Yes</td>\n",
              "      <td>Clear</td>\n",
              "      <td>9.305237</td>\n",
              "      <td>0.229270</td>\n",
              "      <td>0.436957</td>\n",
              "      <td>0.186900</td>\n",
              "      <td>82</td>\n",
              "      <td>1518</td>\n",
              "      <td>1600</td>\n",
              "    </tr>\n",
              "  </tbody>\n",
              "</table>\n",
              "</div>"
            ],
            "text/plain": [
              "        date  season  year month  holiday week_day work_day weather_situation  \\\n",
              "0 2011-01-01  Spring  2022   Jan        0      Sat       No              Mist   \n",
              "1 2011-01-02  Spring  2022   Jan        0      Mon       No              Mist   \n",
              "2 2011-01-03  Spring  2022   Jan        0      Tue      Yes             Clear   \n",
              "3 2011-01-04  Spring  2022   Jan        0      NaN      Yes             Clear   \n",
              "4 2011-01-05  Spring  2022   Jan        0      Wed      Yes             Clear   \n",
              "\n",
              "        temp  temp_feel  humidity  windspeed  casual  registered  count  \n",
              "0  14.110847   0.363625  0.805833   0.160446     331         654    985  \n",
              "1  14.902598   0.353739  0.696087   0.248539     131         670    801  \n",
              "2   8.050924   0.189405  0.437273   0.248309     120        1229   1349  \n",
              "3   8.200000   0.212122  0.590435   0.160296     108        1454   1562  \n",
              "4   9.305237   0.229270  0.436957   0.186900      82        1518   1600  "
            ]
          },
          "execution_count": 59,
          "metadata": {},
          "output_type": "execute_result"
        }
      ],
      "source": [
        "# Melakukan pengecekan sekali lagi\n",
        "bikeshare_df.head()"
      ]
    },
    {
      "cell_type": "markdown",
      "metadata": {
        "id": "zsyZjqak8DC2"
      },
      "source": [
        "## Visualization & Explanatory Analysis"
      ]
    },
    {
      "cell_type": "markdown",
      "metadata": {
        "id": "HZxOiQ6n8DC2"
      },
      "source": [
        "### Pertanyaan 1:"
      ]
    },
    {
      "cell_type": "markdown",
      "metadata": {},
      "source": [
        "Bagaimana cuaca dan suhu memengaruhi permintaan jumlah sewa sepeda?"
      ]
    },
    {
      "cell_type": "code",
      "execution_count": 60,
      "metadata": {},
      "outputs": [
        {
          "data": {
            "text/html": [
              "<div>\n",
              "<style scoped>\n",
              "    .dataframe tbody tr th:only-of-type {\n",
              "        vertical-align: middle;\n",
              "    }\n",
              "\n",
              "    .dataframe tbody tr th {\n",
              "        vertical-align: top;\n",
              "    }\n",
              "\n",
              "    .dataframe thead th {\n",
              "        text-align: right;\n",
              "    }\n",
              "</style>\n",
              "<table border=\"1\" class=\"dataframe\">\n",
              "  <thead>\n",
              "    <tr style=\"text-align: right;\">\n",
              "      <th></th>\n",
              "      <th></th>\n",
              "      <th>count</th>\n",
              "    </tr>\n",
              "    <tr>\n",
              "      <th>weather_situation</th>\n",
              "      <th>temp</th>\n",
              "      <th></th>\n",
              "    </tr>\n",
              "  </thead>\n",
              "  <tbody>\n",
              "    <tr>\n",
              "      <th rowspan=\"5\" valign=\"top\">Clear</th>\n",
              "      <th>2.424346</th>\n",
              "      <td>981</td>\n",
              "    </tr>\n",
              "    <tr>\n",
              "      <th>3.957390</th>\n",
              "      <td>986</td>\n",
              "    </tr>\n",
              "    <tr>\n",
              "      <th>3.993043</th>\n",
              "      <td>1416</td>\n",
              "    </tr>\n",
              "    <tr>\n",
              "      <th>5.227500</th>\n",
              "      <td>1529</td>\n",
              "    </tr>\n",
              "    <tr>\n",
              "      <th>5.671653</th>\n",
              "      <td>822</td>\n",
              "    </tr>\n",
              "  </tbody>\n",
              "</table>\n",
              "</div>"
            ],
            "text/plain": [
              "                            count\n",
              "weather_situation temp           \n",
              "Clear             2.424346    981\n",
              "                  3.957390    986\n",
              "                  3.993043   1416\n",
              "                  5.227500   1529\n",
              "                  5.671653    822"
            ]
          },
          "execution_count": 60,
          "metadata": {},
          "output_type": "execute_result"
        }
      ],
      "source": [
        "weather_ride_df = bikeshare_df.groupby(by=[\"weather_situation\", \"temp\"]).agg({\n",
        "    \"count\" : \"sum\"\n",
        "})\n",
        "weather_ride_df.head()"
      ]
    },
    {
      "cell_type": "code",
      "execution_count": 61,
      "metadata": {
        "id": "1swJUdAD8DC2"
      },
      "outputs": [
        {
          "data": {
            "image/png": "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",
            "text/plain": [
              "<Figure size 900x400 with 1 Axes>"
            ]
          },
          "metadata": {},
          "output_type": "display_data"
        }
      ],
      "source": [
        "plt.figure(figsize=(9,4))\n",
        "\n",
        "sns.scatterplot(x='temp', y='count', data=weather_ride_df, hue='weather_situation')\n",
        "\n",
        "plt.xlabel(\"Temp (C)\")\n",
        "plt.ylabel('Jumlah sewa')\n",
        "plt.title(\"Pengaruh cuaca terhadap jumlah sewa sepeda\")\n",
        "\n",
        "plt.tight_layout()\n",
        "plt.show()"
      ]
    },
    {
      "cell_type": "markdown",
      "metadata": {},
      "source": [
        "- Scatter plot di atas menunjukkan permintaan jumlah sewa meningkat ketika cuaca cerah (Clear), sementara itu pada kondisi hujan ringan (Light Rain) permintaan jumlah sewa menurun\n",
        "- Peningkatan jumlah sewa pun terjadi ketika suhu hangat. Jumlah sewa meningkat hingga 6000-8000 pada rentang suhu 20-30 derajat Celcius"
      ]
    },
    {
      "cell_type": "markdown",
      "metadata": {
        "id": "DgHI7CiU8DC2"
      },
      "source": [
        "### Pertanyaan 2:"
      ]
    },
    {
      "cell_type": "markdown",
      "metadata": {
        "id": "Go0lCsvO8DC2"
      },
      "source": [
        "Bagaimana preferensi pola penyewaan sepeda berdasarkan variasi hari"
      ]
    },
    {
      "cell_type": "code",
      "execution_count": 62,
      "metadata": {},
      "outputs": [
        {
          "data": {
            "text/html": [
              "<div>\n",
              "<style scoped>\n",
              "    .dataframe tbody tr th:only-of-type {\n",
              "        vertical-align: middle;\n",
              "    }\n",
              "\n",
              "    .dataframe tbody tr th {\n",
              "        vertical-align: top;\n",
              "    }\n",
              "\n",
              "    .dataframe thead th {\n",
              "        text-align: right;\n",
              "    }\n",
              "</style>\n",
              "<table border=\"1\" class=\"dataframe\">\n",
              "  <thead>\n",
              "    <tr style=\"text-align: right;\">\n",
              "      <th></th>\n",
              "      <th>work_day</th>\n",
              "      <th>user status</th>\n",
              "      <th>count</th>\n",
              "    </tr>\n",
              "  </thead>\n",
              "  <tbody>\n",
              "    <tr>\n",
              "      <th>0</th>\n",
              "      <td>No</td>\n",
              "      <td>casual</td>\n",
              "      <td>331</td>\n",
              "    </tr>\n",
              "    <tr>\n",
              "      <th>1</th>\n",
              "      <td>No</td>\n",
              "      <td>casual</td>\n",
              "      <td>131</td>\n",
              "    </tr>\n",
              "    <tr>\n",
              "      <th>2</th>\n",
              "      <td>Yes</td>\n",
              "      <td>casual</td>\n",
              "      <td>120</td>\n",
              "    </tr>\n",
              "    <tr>\n",
              "      <th>3</th>\n",
              "      <td>Yes</td>\n",
              "      <td>casual</td>\n",
              "      <td>108</td>\n",
              "    </tr>\n",
              "    <tr>\n",
              "      <th>4</th>\n",
              "      <td>Yes</td>\n",
              "      <td>casual</td>\n",
              "      <td>82</td>\n",
              "    </tr>\n",
              "  </tbody>\n",
              "</table>\n",
              "</div>"
            ],
            "text/plain": [
              "  work_day user status  count\n",
              "0       No      casual    331\n",
              "1       No      casual    131\n",
              "2      Yes      casual    120\n",
              "3      Yes      casual    108\n",
              "4      Yes      casual     82"
            ]
          },
          "execution_count": 62,
          "metadata": {},
          "output_type": "execute_result"
        }
      ],
      "source": [
        "bike_df = bikeshare_df[['work_day', 'casual', 'registered']]\n",
        "daily_ride_df = pd.melt(bike_df, id_vars='work_day', var_name='user status', value_name='count' )\n",
        "daily_ride_df.head()"
      ]
    },
    {
      "cell_type": "code",
      "execution_count": 63,
      "metadata": {},
      "outputs": [
        {
          "data": {
            "text/plain": [
              "<Axes: xlabel='work_day', ylabel='count'>"
            ]
          },
          "execution_count": 63,
          "metadata": {},
          "output_type": "execute_result"
        },
        {
          "data": {
            "image/png": "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",
            "text/plain": [
              "<Figure size 640x480 with 1 Axes>"
            ]
          },
          "metadata": {},
          "output_type": "display_data"
        }
      ],
      "source": [
        "\n",
        "sns.boxplot(data=daily_ride_df, x='work_day', y='count',hue=\"user status\", showfliers=False, palette='magma')"
      ]
    },
    {
      "cell_type": "markdown",
      "metadata": {},
      "source": [
        "Boxplot menunjukkan jumlah sewa sepeda pada hari kerja (workday) lebih rendah dari hari libur untuk pengguna casual. Sedangkan pola sewa sepeda pada registered user (pengguna terdaftar) cenderung lebih tinggi di hari kerja dibandingkan hari libur"
      ]
    },
    {
      "cell_type": "markdown",
      "metadata": {
        "id": "_WeHlCeX8DC2"
      },
      "source": [
        "## Conclusion"
      ]
    },
    {
      "cell_type": "markdown",
      "metadata": {
        "id": "ZTcyR48Y8DC2"
      },
      "source": [
        "- Berdasarkan scatterplot, pengaruh suhu terhadap permintaan cuaca sepeda menunjukkan peningkatan permintaan jumlah sewa ketika cuaca cerah (Clear), sementara itu pada kondisi hujan ringan (Light Rain) permintaan jumlah sewa menurun. Peningkatan jumlah sewa pun terjadi ketika suhu hangat. Jumlah sewa meningkat hingga 6000-8000 pada rentang suhu 20-30 derajat Celcius.\n",
        "- Boxplot diatas menunjukkan preferensi penyewaan sepeda berdasarkan variasi hari (workday dan weekend) berdasarkan status pengguna: Untuk pengguna Casual jumlah sewa sepeda di hari weekend lebih tinggi dibandingkan ketika hari kerja (workday). Sedangkan pola sewa sepeda untuk registered user (pengguna terdaftar) cenderung lebih tinggi di hari kerja dibandingkan hari libur."
      ]
    },
    {
      "cell_type": "code",
      "execution_count": 64,
      "metadata": {},
      "outputs": [],
      "source": [
        "bikeshare_df.to_csv(\"main_data.csv\", index=False)"
      ]
    }
  ],
  "metadata": {
    "colab": {
      "provenance": []
    },
    "kernelspec": {
      "display_name": "Python 3",
      "language": "python",
      "name": "python3"
    },
    "language_info": {
      "codemirror_mode": {
        "name": "ipython",
        "version": 3
      },
      "file_extension": ".py",
      "mimetype": "text/x-python",
      "name": "python",
      "nbconvert_exporter": "python",
      "pygments_lexer": "ipython3",
      "version": "3.9.0"
    },
    "orig_nbformat": 4,
    "vscode": {
      "interpreter": {
        "hash": "972b3bf27e332e87b5379f2791f6ef9dfc79c71018c370b0d7423235e20fe4d7"
      }
    }
  },
  "nbformat": 4,
  "nbformat_minor": 0
}
